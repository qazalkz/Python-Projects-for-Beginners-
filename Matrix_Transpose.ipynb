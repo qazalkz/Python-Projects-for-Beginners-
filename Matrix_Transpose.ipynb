{
  "nbformat": 4,
  "nbformat_minor": 0,
  "metadata": {
    "colab": {
      "name": "Matrix Transpose.ipynb",
      "provenance": [],
      "authorship_tag": "ABX9TyNbkZf4Vt44mzuQ0FdNejyH",
      "include_colab_link": true
    },
    "kernelspec": {
      "name": "python3",
      "display_name": "Python 3"
    }
  },
  "cells": [
    {
      "cell_type": "markdown",
      "metadata": {
        "id": "view-in-github",
        "colab_type": "text"
      },
      "source": [
        "<a href=\"https://colab.research.google.com/github/qazalkz/Python-Projects-for-Beginners-/blob/master/Matrix_Transpose.ipynb\" target=\"_parent\"><img src=\"https://colab.research.google.com/assets/colab-badge.svg\" alt=\"Open In Colab\"/></a>"
      ]
    },
    {
      "cell_type": "code",
      "metadata": {
        "colab": {
          "base_uri": "https://localhost:8080/"
        },
        "id": "cMo_7eXeo8eL",
        "outputId": "77e2edaa-2744-4945-9b1e-603e567445a4"
      },
      "source": [
        "m=int(input('give me m'))\r\n",
        "n=int(input('give me n'))\r\n",
        "a1=[]\r\n",
        "for iI in range(m):\r\n",
        "    row=[]\r\n",
        "    for j in range(n):\r\n",
        "        row.append(int(input('give me a number')))\r\n",
        "    a1.append(row)\r\n",
        "    #return Matris\r\n",
        "print(a1)\r\n",
        "\r\n",
        "c=[]\r\n",
        "for i in range(len(a1[0])):\r\n",
        "     temp=[]\r\n",
        "     for j in range(len(a1)):\r\n",
        "         temp.append(a1[j][i])\r\n",
        "     c.append(temp)\r\n",
        "print(c)   \r\n"
      ],
      "execution_count": null,
      "outputs": [
        {
          "output_type": "stream",
          "text": [
            "give me m2\n",
            "give me n3\n",
            "give me a number1\n",
            "give me a number2\n",
            "give me a number3\n",
            "give me a number4\n",
            "give me a number5\n",
            "give me a number6\n",
            "[[1, 2, 3], [4, 5, 6]]\n",
            "[[1, 4], [2, 5], [3, 6]]\n"
          ],
          "name": "stdout"
        }
      ]
    }
  ]
}