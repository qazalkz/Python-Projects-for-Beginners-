{
  "nbformat": 4,
  "nbformat_minor": 0,
  "metadata": {
    "colab": {
      "name": "Untitled",
      "provenance": [],
      "collapsed_sections": [],
      "authorship_tag": "ABX9TyOfd6spyTGlVwioZVCKeq0w",
      "include_colab_link": true
    },
    "kernelspec": {
      "name": "python3",
      "display_name": "Python 3"
    }
  },
  "cells": [
    {
      "cell_type": "markdown",
      "metadata": {
        "id": "view-in-github",
        "colab_type": "text"
      },
      "source": [
        "<a href=\"https://colab.research.google.com/github/qazalkz/Python-Projects-for-Beginners-/blob/master/nhanes2015-2016.ipynb\" target=\"_parent\"><img src=\"https://colab.research.google.com/assets/colab-badge.svg\" alt=\"Open In Colab\"/></a>"
      ]
    },
    {
      "cell_type": "code",
      "metadata": {
        "colab": {
          "resources": {
            "http://localhost:8080/nbextensions/google.colab/files.js": {
              "data": "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",
              "ok": true,
              "headers": [
                [
                  "content-type",
                  "application/javascript"
                ]
              ],
              "status": 200,
              "status_text": ""
            }
          },
          "base_uri": "https://localhost:8080/",
          "height": 72
        },
        "id": "Y3g2JwrpjWSU",
        "outputId": "acf205fc-f3f1-4962-b433-5a748df6f050"
      },
      "source": [
        "\r\n",
        "from google.colab import files \r\n",
        "  \r\n",
        "  \r\n",
        "uploaded = files.upload()"
      ],
      "execution_count": 6,
      "outputs": [
        {
          "output_type": "display_data",
          "data": {
            "text/html": [
              "\n",
              "     <input type=\"file\" id=\"files-c4a29135-3064-4427-9040-abe9aca9b731\" name=\"files[]\" multiple disabled\n",
              "        style=\"border:none\" />\n",
              "     <output id=\"result-c4a29135-3064-4427-9040-abe9aca9b731\">\n",
              "      Upload widget is only available when the cell has been executed in the\n",
              "      current browser session. Please rerun this cell to enable.\n",
              "      </output>\n",
              "      <script src=\"/nbextensions/google.colab/files.js\"></script> "
            ],
            "text/plain": [
              "<IPython.core.display.HTML object>"
            ]
          },
          "metadata": {
            "tags": []
          }
        },
        {
          "output_type": "stream",
          "text": [
            "Saving NHANES.csv to NHANES.csv\n"
          ],
          "name": "stdout"
        }
      ]
    },
    {
      "cell_type": "code",
      "metadata": {
        "id": "IbcdHXAokzyE"
      },
      "source": [
        "import pandas as pd\r\n",
        "import numpy as np\r\n",
        "import matplotlib.pyplot as plt\r\n",
        "import seaborn as sns"
      ],
      "execution_count": 8,
      "outputs": []
    },
    {
      "cell_type": "code",
      "metadata": {
        "id": "U7_-Dds1mvki"
      },
      "source": [
        "da= pd.read_csv('NHANES.csv')"
      ],
      "execution_count": 9,
      "outputs": []
    },
    {
      "cell_type": "code",
      "metadata": {
        "colab": {
          "base_uri": "https://localhost:8080/",
          "height": 224
        },
        "id": "y8kE11mHm-Qp",
        "outputId": "7ddb5bae-5b8f-42f3-f1d0-f43b0c82bf51"
      },
      "source": [
        "da.head()"
      ],
      "execution_count": 5,
      "outputs": [
        {
          "output_type": "execute_result",
          "data": {
            "text/html": [
              "<div>\n",
              "<style scoped>\n",
              "    .dataframe tbody tr th:only-of-type {\n",
              "        vertical-align: middle;\n",
              "    }\n",
              "\n",
              "    .dataframe tbody tr th {\n",
              "        vertical-align: top;\n",
              "    }\n",
              "\n",
              "    .dataframe thead th {\n",
              "        text-align: right;\n",
              "    }\n",
              "</style>\n",
              "<table border=\"1\" class=\"dataframe\">\n",
              "  <thead>\n",
              "    <tr style=\"text-align: right;\">\n",
              "      <th></th>\n",
              "      <th>SEQN</th>\n",
              "      <th>ALQ101</th>\n",
              "      <th>ALQ110</th>\n",
              "      <th>ALQ130</th>\n",
              "      <th>SMQ020</th>\n",
              "      <th>RIAGENDR</th>\n",
              "      <th>RIDAGEYR</th>\n",
              "      <th>RIDRETH1</th>\n",
              "      <th>DMDCITZN</th>\n",
              "      <th>DMDEDUC2</th>\n",
              "      <th>DMDMARTL</th>\n",
              "      <th>DMDHHSIZ</th>\n",
              "      <th>WTINT2YR</th>\n",
              "      <th>SDMVPSU</th>\n",
              "      <th>SDMVSTRA</th>\n",
              "      <th>INDFMPIR</th>\n",
              "      <th>BPXSY1</th>\n",
              "      <th>BPXDI1</th>\n",
              "      <th>BPXSY2</th>\n",
              "      <th>BPXDI2</th>\n",
              "      <th>BMXWT</th>\n",
              "      <th>BMXHT</th>\n",
              "      <th>BMXBMI</th>\n",
              "      <th>BMXLEG</th>\n",
              "      <th>BMXARML</th>\n",
              "      <th>BMXARMC</th>\n",
              "      <th>BMXWAIST</th>\n",
              "      <th>HIQ210</th>\n",
              "    </tr>\n",
              "  </thead>\n",
              "  <tbody>\n",
              "    <tr>\n",
              "      <th>0</th>\n",
              "      <td>83732</td>\n",
              "      <td>1.0</td>\n",
              "      <td>NaN</td>\n",
              "      <td>1.0</td>\n",
              "      <td>1</td>\n",
              "      <td>1</td>\n",
              "      <td>62</td>\n",
              "      <td>3</td>\n",
              "      <td>1.0</td>\n",
              "      <td>5.0</td>\n",
              "      <td>1.0</td>\n",
              "      <td>2</td>\n",
              "      <td>134671.37</td>\n",
              "      <td>1</td>\n",
              "      <td>125</td>\n",
              "      <td>4.39</td>\n",
              "      <td>128.0</td>\n",
              "      <td>70.0</td>\n",
              "      <td>124.0</td>\n",
              "      <td>64.0</td>\n",
              "      <td>94.8</td>\n",
              "      <td>184.5</td>\n",
              "      <td>27.8</td>\n",
              "      <td>43.3</td>\n",
              "      <td>43.6</td>\n",
              "      <td>35.9</td>\n",
              "      <td>101.1</td>\n",
              "      <td>2.0</td>\n",
              "    </tr>\n",
              "    <tr>\n",
              "      <th>1</th>\n",
              "      <td>83733</td>\n",
              "      <td>1.0</td>\n",
              "      <td>NaN</td>\n",
              "      <td>6.0</td>\n",
              "      <td>1</td>\n",
              "      <td>1</td>\n",
              "      <td>53</td>\n",
              "      <td>3</td>\n",
              "      <td>2.0</td>\n",
              "      <td>3.0</td>\n",
              "      <td>3.0</td>\n",
              "      <td>1</td>\n",
              "      <td>24328.56</td>\n",
              "      <td>1</td>\n",
              "      <td>125</td>\n",
              "      <td>1.32</td>\n",
              "      <td>146.0</td>\n",
              "      <td>88.0</td>\n",
              "      <td>140.0</td>\n",
              "      <td>88.0</td>\n",
              "      <td>90.4</td>\n",
              "      <td>171.4</td>\n",
              "      <td>30.8</td>\n",
              "      <td>38.0</td>\n",
              "      <td>40.0</td>\n",
              "      <td>33.2</td>\n",
              "      <td>107.9</td>\n",
              "      <td>NaN</td>\n",
              "    </tr>\n",
              "    <tr>\n",
              "      <th>2</th>\n",
              "      <td>83734</td>\n",
              "      <td>1.0</td>\n",
              "      <td>NaN</td>\n",
              "      <td>NaN</td>\n",
              "      <td>1</td>\n",
              "      <td>1</td>\n",
              "      <td>78</td>\n",
              "      <td>3</td>\n",
              "      <td>1.0</td>\n",
              "      <td>3.0</td>\n",
              "      <td>1.0</td>\n",
              "      <td>2</td>\n",
              "      <td>12400.01</td>\n",
              "      <td>1</td>\n",
              "      <td>131</td>\n",
              "      <td>1.51</td>\n",
              "      <td>138.0</td>\n",
              "      <td>46.0</td>\n",
              "      <td>132.0</td>\n",
              "      <td>44.0</td>\n",
              "      <td>83.4</td>\n",
              "      <td>170.1</td>\n",
              "      <td>28.8</td>\n",
              "      <td>35.6</td>\n",
              "      <td>37.0</td>\n",
              "      <td>31.0</td>\n",
              "      <td>116.5</td>\n",
              "      <td>2.0</td>\n",
              "    </tr>\n",
              "    <tr>\n",
              "      <th>3</th>\n",
              "      <td>83735</td>\n",
              "      <td>2.0</td>\n",
              "      <td>1.0</td>\n",
              "      <td>1.0</td>\n",
              "      <td>2</td>\n",
              "      <td>2</td>\n",
              "      <td>56</td>\n",
              "      <td>3</td>\n",
              "      <td>1.0</td>\n",
              "      <td>5.0</td>\n",
              "      <td>6.0</td>\n",
              "      <td>1</td>\n",
              "      <td>102718.00</td>\n",
              "      <td>1</td>\n",
              "      <td>131</td>\n",
              "      <td>5.00</td>\n",
              "      <td>132.0</td>\n",
              "      <td>72.0</td>\n",
              "      <td>134.0</td>\n",
              "      <td>68.0</td>\n",
              "      <td>109.8</td>\n",
              "      <td>160.9</td>\n",
              "      <td>42.4</td>\n",
              "      <td>38.5</td>\n",
              "      <td>37.7</td>\n",
              "      <td>38.3</td>\n",
              "      <td>110.1</td>\n",
              "      <td>2.0</td>\n",
              "    </tr>\n",
              "    <tr>\n",
              "      <th>4</th>\n",
              "      <td>83736</td>\n",
              "      <td>2.0</td>\n",
              "      <td>1.0</td>\n",
              "      <td>1.0</td>\n",
              "      <td>2</td>\n",
              "      <td>2</td>\n",
              "      <td>42</td>\n",
              "      <td>4</td>\n",
              "      <td>1.0</td>\n",
              "      <td>4.0</td>\n",
              "      <td>3.0</td>\n",
              "      <td>5</td>\n",
              "      <td>17627.67</td>\n",
              "      <td>2</td>\n",
              "      <td>126</td>\n",
              "      <td>1.23</td>\n",
              "      <td>100.0</td>\n",
              "      <td>70.0</td>\n",
              "      <td>114.0</td>\n",
              "      <td>54.0</td>\n",
              "      <td>55.2</td>\n",
              "      <td>164.9</td>\n",
              "      <td>20.3</td>\n",
              "      <td>37.4</td>\n",
              "      <td>36.0</td>\n",
              "      <td>27.2</td>\n",
              "      <td>80.4</td>\n",
              "      <td>2.0</td>\n",
              "    </tr>\n",
              "  </tbody>\n",
              "</table>\n",
              "</div>"
            ],
            "text/plain": [
              "    SEQN  ALQ101  ALQ110  ALQ130  ...  BMXARML  BMXARMC  BMXWAIST  HIQ210\n",
              "0  83732     1.0     NaN     1.0  ...     43.6     35.9     101.1     2.0\n",
              "1  83733     1.0     NaN     6.0  ...     40.0     33.2     107.9     NaN\n",
              "2  83734     1.0     NaN     NaN  ...     37.0     31.0     116.5     2.0\n",
              "3  83735     2.0     1.0     1.0  ...     37.7     38.3     110.1     2.0\n",
              "4  83736     2.0     1.0     1.0  ...     36.0     27.2      80.4     2.0\n",
              "\n",
              "[5 rows x 28 columns]"
            ]
          },
          "metadata": {
            "tags": []
          },
          "execution_count": 5
        }
      ]
    },
    {
      "cell_type": "code",
      "metadata": {
        "colab": {
          "base_uri": "https://localhost:8080/"
        },
        "id": "AdrfoDXUm6US",
        "outputId": "5b7f60b0-b8fc-4a3a-8c44-4ecbd6670676"
      },
      "source": [
        "da.columns"
      ],
      "execution_count": 6,
      "outputs": [
        {
          "output_type": "execute_result",
          "data": {
            "text/plain": [
              "Index(['SEQN', 'ALQ101', 'ALQ110', 'ALQ130', 'SMQ020', 'RIAGENDR', 'RIDAGEYR',\n",
              "       'RIDRETH1', 'DMDCITZN', 'DMDEDUC2', 'DMDMARTL', 'DMDHHSIZ', 'WTINT2YR',\n",
              "       'SDMVPSU', 'SDMVSTRA', 'INDFMPIR', 'BPXSY1', 'BPXDI1', 'BPXSY2',\n",
              "       'BPXDI2', 'BMXWT', 'BMXHT', 'BMXBMI', 'BMXLEG', 'BMXARML', 'BMXARMC',\n",
              "       'BMXWAIST', 'HIQ210'],\n",
              "      dtype='object')"
            ]
          },
          "metadata": {
            "tags": []
          },
          "execution_count": 6
        }
      ]
    },
    {
      "cell_type": "markdown",
      "metadata": {
        "id": "VVpOjyEuoM9b"
      },
      "source": [
        "![3333.PNG](data:image/png;base64,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)\r\n",
        "\r\n",
        "---\r\n",
        "\r\n"
      ]
    },
    {
      "cell_type": "code",
      "metadata": {
        "colab": {
          "base_uri": "https://localhost:8080/"
        },
        "id": "xWWPamoEnX3k",
        "outputId": "96da942d-0ba8-4fd8-fb2c-072b180cdc21"
      },
      "source": [
        "da.DMDEDUC2.value_counts()"
      ],
      "execution_count": 7,
      "outputs": [
        {
          "output_type": "execute_result",
          "data": {
            "text/plain": [
              "4.0    1621\n",
              "5.0    1366\n",
              "3.0    1186\n",
              "1.0     655\n",
              "2.0     643\n",
              "9.0       3\n",
              "Name: DMDEDUC2, dtype: int64"
            ]
          },
          "metadata": {
            "tags": []
          },
          "execution_count": 7
        }
      ]
    },
    {
      "cell_type": "code",
      "metadata": {
        "colab": {
          "base_uri": "https://localhost:8080/"
        },
        "id": "Fsmc4LEZnX_m",
        "outputId": "7bb6f007-1b5b-40fc-b40b-6c994252383b"
      },
      "source": [
        "print(da.DMDEDUC2.value_counts().sum())\r\n",
        "print(da.shape)"
      ],
      "execution_count": 11,
      "outputs": [
        {
          "output_type": "stream",
          "text": [
            "5474\n",
            "(5735, 28)\n"
          ],
          "name": "stdout"
        }
      ]
    },
    {
      "cell_type": "code",
      "metadata": {
        "colab": {
          "base_uri": "https://localhost:8080/"
        },
        "id": "aV6HrpzMnYGB",
        "outputId": "a02de9b2-cf2f-4a76-da55-f2da06f65e96"
      },
      "source": [
        "pd.isnull(da.DMDEDUC2).sum()   #تابع نول میزان میسینگ ولیو رو میگه   Detect missing values for an array"
      ],
      "execution_count": 10,
      "outputs": [
        {
          "output_type": "execute_result",
          "data": {
            "text/plain": [
              "261"
            ]
          },
          "metadata": {
            "tags": []
          },
          "execution_count": 10
        }
      ]
    },
    {
      "cell_type": "markdown",
      "metadata": {
        "id": "g-6D0EF8vIrP"
      },
      "source": [
        "In some cases it is useful to replace integer codes with a text label that reflects the code's meaning. Below we create a new variable called 'DMDEDUC2x' that is recoded with text labels, then we generate its frequency distribution"
      ]
    },
    {
      "cell_type": "code",
      "metadata": {
        "colab": {
          "base_uri": "https://localhost:8080/"
        },
        "id": "0a26nNztvHnU",
        "outputId": "7bbfa1a6-d5dc-4292-a241-15a494a299bf"
      },
      "source": [
        "da[\"DMDEDUC2x\"] = da.DMDEDUC2.replace({1: \"<9\", 2: \"9-11\", 3: \"HS/GED\", 4: \"Some college/AA\", 5: \"College\",\r\n",
        "                                       7: \"Refused\", 9: \"Don't know\"})\r\n",
        "da.DMDEDUC2x.value_counts()"
      ],
      "execution_count": 66,
      "outputs": [
        {
          "output_type": "execute_result",
          "data": {
            "text/plain": [
              "Some college/AA    1621\n",
              "College            1366\n",
              "HS/GED             1186\n",
              "<9                  655\n",
              "9-11                643\n",
              "Don't know            3\n",
              "Name: DMDEDUC2x, dtype: int64"
            ]
          },
          "metadata": {
            "tags": []
          },
          "execution_count": 66
        }
      ]
    },
    {
      "cell_type": "code",
      "metadata": {
        "colab": {
          "base_uri": "https://localhost:8080/"
        },
        "id": "74L9g29LnYI5",
        "outputId": "e03568f4-d224-4432-9496-5f9b72c734cb"
      },
      "source": [
        "da['DMDEDUC2x']=da.DMDEDUC2.replace({1: '1=<9', 2: '2=9-11', 3:\"3=Highschool\", 4:'4=colage/aa', 5:'5=collage', \r\n",
        "                                       7:'7=refused', 9: '9=dont know'})\r\n",
        "da.DMDEDUC2x.value_counts()"
      ],
      "execution_count": 67,
      "outputs": [
        {
          "output_type": "execute_result",
          "data": {
            "text/plain": [
              "4=colage/aa     1621\n",
              "5=collage       1366\n",
              "3=Highschool    1186\n",
              "1=<9             655\n",
              "2=9-11           643\n",
              "9=dont know        3\n",
              "Name: DMDEDUC2x, dtype: int64"
            ]
          },
          "metadata": {
            "tags": []
          },
          "execution_count": 67
        }
      ]
    },
    {
      "cell_type": "markdown",
      "metadata": {
        "id": "0zaMhLqjw5Vm"
      },
      "source": [
        "We will also want to have a relabeled version of the gender variable, so we will construct that now as well. We will follow a convention here of appending an 'x' to the end of a categorical variable's name when it has been recoded from numeric to string (text) values.\r\n",
        "میخوایم متغیر جنسیت رو مرد و زن تبدیل کنیم چون در جدول با عدد نشون داده"
      ]
    },
    {
      "cell_type": "code",
      "metadata": {
        "colab": {
          "base_uri": "https://localhost:8080/"
        },
        "id": "GlXXqgpewxsA",
        "outputId": "ff985e72-2d33-4076-9570-9c0ad4083519"
      },
      "source": [
        "da['RIAGENDRx']=da.RIAGENDR.replace({1:'Male' , 2: 'Female'})\r\n",
        "da.RIAGENDRx.value_counts()"
      ],
      "execution_count": 61,
      "outputs": [
        {
          "output_type": "execute_result",
          "data": {
            "text/plain": [
              "Female    2976\n",
              "Male      2759\n",
              "Name: RIAGENDRx, dtype: int64"
            ]
          },
          "metadata": {
            "tags": []
          },
          "execution_count": 61
        }
      ]
    },
    {
      "cell_type": "markdown",
      "metadata": {
        "id": "GJyhuad7zPv2"
      },
      "source": [
        "اینجا فراوانی نسبی هم گروه رو بدست میاریم"
      ]
    },
    {
      "cell_type": "code",
      "metadata": {
        "colab": {
          "base_uri": "https://localhost:8080/"
        },
        "id": "ufNQkCSTyGJe",
        "outputId": "1089bcf1-1a40-41d9-f03b-71d49e70268f"
      },
      "source": [
        "x= da.DMDEDUC2x.value_counts()\r\n",
        "x/x.sum()"
      ],
      "execution_count": 68,
      "outputs": [
        {
          "output_type": "execute_result",
          "data": {
            "text/plain": [
              "4=colage/aa     0.296127\n",
              "5=collage       0.249543\n",
              "3=Highschool    0.216661\n",
              "1=<9            0.119657\n",
              "2=9-11          0.117464\n",
              "9=dont know     0.000548\n",
              "Name: DMDEDUC2x, dtype: float64"
            ]
          },
          "metadata": {
            "tags": []
          },
          "execution_count": 68
        }
      ]
    },
    {
      "cell_type": "code",
      "metadata": {
        "colab": {
          "base_uri": "https://localhost:8080/"
        },
        "id": "rqIrROHZyGMM",
        "outputId": "6ed68d76-ef45-4546-f394-2db2be1a9675"
      },
      "source": [
        "gh=da.RIAGENDRx.value_counts()\r\n",
        "gh/gh.sum()"
      ],
      "execution_count": 62,
      "outputs": [
        {
          "output_type": "execute_result",
          "data": {
            "text/plain": [
              "Female    0.518919\n",
              "Male      0.481081\n",
              "Name: RIAGENDRx, dtype: float64"
            ]
          },
          "metadata": {
            "tags": []
          },
          "execution_count": 62
        }
      ]
    },
    {
      "cell_type": "markdown",
      "metadata": {
        "id": "6yeNSZlN0Zmk"
      },
      "source": [
        "حالا چون میسینگ ولیو نسون داده نمیشد  میایم میسینگ ولیو رو هم تعرف میکنیم و مجددا از سطح تحصیلات فراوانی نسبی میگریم برای این کاز از فیلنا کمک میگیری که جاهای خالی رو پر میکنه \r\n",
        "fillna() can “fill in” NA values with non-NA data in a couple of ways"
      ]
    },
    {
      "cell_type": "code",
      "metadata": {
        "colab": {
          "base_uri": "https://localhost:8080/"
        },
        "id": "OA5RoyBNyGOv",
        "outputId": "fb518206-86e7-482c-bdbe-262c18927723"
      },
      "source": [
        "da['DMDEDUC2x']=da.DMDEDUC2x.fillna('10=missing')\r\n",
        "da.DMDEDUC2x.value_counts()"
      ],
      "execution_count": 69,
      "outputs": [
        {
          "output_type": "execute_result",
          "data": {
            "text/plain": [
              "4=colage/aa     1621\n",
              "5=collage       1366\n",
              "3=Highschool    1186\n",
              "1=<9             655\n",
              "2=9-11           643\n",
              "10=missing       261\n",
              "9=dont know        3\n",
              "Name: DMDEDUC2x, dtype: int64"
            ]
          },
          "metadata": {
            "tags": []
          },
          "execution_count": 69
        }
      ]
    },
    {
      "cell_type": "code",
      "metadata": {
        "colab": {
          "base_uri": "https://localhost:8080/"
        },
        "id": "Ceh4Jyq5yGRM",
        "outputId": "f0a99b1b-dcf2-4bc8-d012-8db353860fb8"
      },
      "source": [
        "print(da.DMDEDUC2x.value_counts().sum())\r\n",
        "print(da.shape)"
      ],
      "execution_count": 70,
      "outputs": [
        {
          "output_type": "stream",
          "text": [
            "5735\n",
            "(5735, 31)\n"
          ],
          "name": "stdout"
        }
      ]
    },
    {
      "cell_type": "code",
      "metadata": {
        "colab": {
          "base_uri": "https://localhost:8080/"
        },
        "id": "6Fzbot6dyGTq",
        "outputId": "0374d126-cc36-4378-c754-5243eb0cdf13"
      },
      "source": [
        "x=da.DMDEDUC2x.value_counts()\r\n",
        "x/x.sum()"
      ],
      "execution_count": 71,
      "outputs": [
        {
          "output_type": "execute_result",
          "data": {
            "text/plain": [
              "4=colage/aa     0.282650\n",
              "5=collage       0.238187\n",
              "3=Highschool    0.206800\n",
              "1=<9            0.114211\n",
              "2=9-11          0.112119\n",
              "10=missing      0.045510\n",
              "9=dont know     0.000523\n",
              "Name: DMDEDUC2x, dtype: float64"
            ]
          },
          "metadata": {
            "tags": []
          },
          "execution_count": 71
        }
      ]
    },
    {
      "cell_type": "markdown",
      "metadata": {
        "id": "sO4uPAoQ4UP9"
      },
      "source": [
        "همانند بسیاری از نظرسنجی ها ، برخی از مقادیر داده ها از بین رفته اند ، بنابراین ما صریحاً موارد گمشده را با استفاده از روش دراپ ان ای قبل از تولید خلاصه سازی رها می کنیم\r\n",
        "برای این  کار ما از ایتم بی ام آی یا همون قد و وزن استاندارد افراد استفاده میکنیم چون داده هاش کمی هستند"
      ]
    },
    {
      "cell_type": "code",
      "metadata": {
        "colab": {
          "base_uri": "https://localhost:8080/"
        },
        "id": "6sHYKpmxyGWh",
        "outputId": "10bbcbb2-9f66-4263-96ed-3cb1a1ae9500"
      },
      "source": [
        "da.BMXWT.dropna().describe()\r\n"
      ],
      "execution_count": 27,
      "outputs": [
        {
          "output_type": "execute_result",
          "data": {
            "text/plain": [
              "count    5666.000000\n",
              "mean       81.342676\n",
              "std        21.764409\n",
              "min        32.400000\n",
              "25%        65.900000\n",
              "50%        78.200000\n",
              "75%        92.700000\n",
              "max       198.900000\n",
              "Name: BMXWT, dtype: float64"
            ]
          },
          "metadata": {
            "tags": []
          },
          "execution_count": 27
        }
      ]
    },
    {
      "cell_type": "code",
      "metadata": {
        "colab": {
          "base_uri": "https://localhost:8080/"
        },
        "id": "y_UxSk043xue",
        "outputId": "7b16e958-306c-4a95-bf6f-959348273b6e"
      },
      "source": [
        "x = da.BMXWT.dropna()  # Extract all non-missing values of BMXWT into a variable called 'x'\r\n",
        "print(x.mean()) # Pandas method\r\n",
        "print(np.mean(x)) # Numpy function\r\n",
        "\r\n",
        "print(x.median())\r\n",
        "print(np.percentile(x, 50))  # 50th percentile, same as the median\r\n",
        "print(np.percentile(x, 75))  # 75th percentile\r\n",
        "print(x.quantile(0.75)) # Pandas method for quantiles, equivalent to 75th percentile"
      ],
      "execution_count": 29,
      "outputs": [
        {
          "output_type": "stream",
          "text": [
            "81.34267560889509\n",
            "81.34267560889509\n",
            "78.2\n",
            "78.2\n",
            "92.7\n",
            "92.7\n"
          ],
          "name": "stdout"
        }
      ]
    },
    {
      "cell_type": "code",
      "metadata": {
        "colab": {
          "base_uri": "https://localhost:8080/"
        },
        "id": "zSKIIO0y3xxb",
        "outputId": "4ea52fa9-ed0e-455d-d83f-72edfb0921e7"
      },
      "source": [
        "x=da.BMXWT.dropna()\r\n",
        "#PANDAS\r\n",
        "print('BY PANDAS')\r\n",
        "print(x.mean())\r\n",
        "print(x.median())\r\n",
        "print(x.quantile(0.25))\r\n",
        "print(x.quantile(0.50))\r\n",
        "print(x.quantile(0.75))\r\n",
        "#NUMPY\r\n",
        "print('by NUMPY')\r\n",
        "print(np.mean(x))\r\n",
        "print(np.median(x))\r\n",
        "print(np.percentile(x, 25))\r\n",
        "print(np.percentile(x, 50))\r\n",
        "print(np.percentile(x , 75))\r\n"
      ],
      "execution_count": 31,
      "outputs": [
        {
          "output_type": "stream",
          "text": [
            "BY PANDAS\n",
            "81.34267560889509\n",
            "78.2\n",
            "65.9\n",
            "78.2\n",
            "92.7\n",
            "by NUMPY\n",
            "81.34267560889509\n",
            "78.2\n",
            "65.9\n",
            "78.2\n",
            "92.7\n"
          ],
          "name": "stdout"
        }
      ]
    },
    {
      "cell_type": "markdown",
      "metadata": {
        "id": "m0j6URPb8ZVN"
      },
      "source": [
        "اگر بخوایم برای کا مقادیر کوانت و کمی مون شاخص های اماری بگیریم میشه با کد زیر که دیسکرایب رو برای کل داده استفاده کرده"
      ]
    },
    {
      "cell_type": "code",
      "metadata": {
        "colab": {
          "base_uri": "https://localhost:8080/",
          "height": 317
        },
        "id": "f94GtfcA3xzs",
        "outputId": "5558c275-16af-4ed0-9d6a-379a74199cd5"
      },
      "source": [
        "da.describe()"
      ],
      "execution_count": 32,
      "outputs": [
        {
          "output_type": "execute_result",
          "data": {
            "text/html": [
              "<div>\n",
              "<style scoped>\n",
              "    .dataframe tbody tr th:only-of-type {\n",
              "        vertical-align: middle;\n",
              "    }\n",
              "\n",
              "    .dataframe tbody tr th {\n",
              "        vertical-align: top;\n",
              "    }\n",
              "\n",
              "    .dataframe thead th {\n",
              "        text-align: right;\n",
              "    }\n",
              "</style>\n",
              "<table border=\"1\" class=\"dataframe\">\n",
              "  <thead>\n",
              "    <tr style=\"text-align: right;\">\n",
              "      <th></th>\n",
              "      <th>SEQN</th>\n",
              "      <th>ALQ101</th>\n",
              "      <th>ALQ110</th>\n",
              "      <th>ALQ130</th>\n",
              "      <th>SMQ020</th>\n",
              "      <th>RIAGENDR</th>\n",
              "      <th>RIDAGEYR</th>\n",
              "      <th>RIDRETH1</th>\n",
              "      <th>DMDCITZN</th>\n",
              "      <th>DMDEDUC2</th>\n",
              "      <th>DMDMARTL</th>\n",
              "      <th>DMDHHSIZ</th>\n",
              "      <th>WTINT2YR</th>\n",
              "      <th>SDMVPSU</th>\n",
              "      <th>SDMVSTRA</th>\n",
              "      <th>INDFMPIR</th>\n",
              "      <th>BPXSY1</th>\n",
              "      <th>BPXDI1</th>\n",
              "      <th>BPXSY2</th>\n",
              "      <th>BPXDI2</th>\n",
              "      <th>BMXWT</th>\n",
              "      <th>BMXHT</th>\n",
              "      <th>BMXBMI</th>\n",
              "      <th>BMXLEG</th>\n",
              "      <th>BMXARML</th>\n",
              "      <th>BMXARMC</th>\n",
              "      <th>BMXWAIST</th>\n",
              "      <th>HIQ210</th>\n",
              "    </tr>\n",
              "  </thead>\n",
              "  <tbody>\n",
              "    <tr>\n",
              "      <th>count</th>\n",
              "      <td>5735.000000</td>\n",
              "      <td>5208.000000</td>\n",
              "      <td>1731.000000</td>\n",
              "      <td>3379.000000</td>\n",
              "      <td>5735.000000</td>\n",
              "      <td>5735.000000</td>\n",
              "      <td>5735.000000</td>\n",
              "      <td>5735.000000</td>\n",
              "      <td>5734.000000</td>\n",
              "      <td>5474.000000</td>\n",
              "      <td>5474.000000</td>\n",
              "      <td>5735.000000</td>\n",
              "      <td>5735.000000</td>\n",
              "      <td>5735.000000</td>\n",
              "      <td>5735.000000</td>\n",
              "      <td>5134.000000</td>\n",
              "      <td>5401.000000</td>\n",
              "      <td>5401.000000</td>\n",
              "      <td>5535.000000</td>\n",
              "      <td>5535.000000</td>\n",
              "      <td>5666.000000</td>\n",
              "      <td>5673.000000</td>\n",
              "      <td>5662.000000</td>\n",
              "      <td>5345.000000</td>\n",
              "      <td>5427.000000</td>\n",
              "      <td>5427.000000</td>\n",
              "      <td>5368.000000</td>\n",
              "      <td>4732.000000</td>\n",
              "    </tr>\n",
              "    <tr>\n",
              "      <th>mean</th>\n",
              "      <td>88678.583435</td>\n",
              "      <td>1.336406</td>\n",
              "      <td>1.587522</td>\n",
              "      <td>3.911512</td>\n",
              "      <td>1.607149</td>\n",
              "      <td>1.518919</td>\n",
              "      <td>48.052310</td>\n",
              "      <td>3.042371</td>\n",
              "      <td>1.185385</td>\n",
              "      <td>3.441725</td>\n",
              "      <td>2.628608</td>\n",
              "      <td>3.323801</td>\n",
              "      <td>40312.412352</td>\n",
              "      <td>1.487881</td>\n",
              "      <td>126.236617</td>\n",
              "      <td>2.403204</td>\n",
              "      <td>125.084614</td>\n",
              "      <td>69.516386</td>\n",
              "      <td>124.783017</td>\n",
              "      <td>69.346703</td>\n",
              "      <td>81.342676</td>\n",
              "      <td>166.142834</td>\n",
              "      <td>29.382197</td>\n",
              "      <td>38.576782</td>\n",
              "      <td>37.146987</td>\n",
              "      <td>33.112235</td>\n",
              "      <td>99.567213</td>\n",
              "      <td>1.915469</td>\n",
              "    </tr>\n",
              "    <tr>\n",
              "      <th>std</th>\n",
              "      <td>2882.139237</td>\n",
              "      <td>0.505514</td>\n",
              "      <td>0.623940</td>\n",
              "      <td>34.341839</td>\n",
              "      <td>0.571975</td>\n",
              "      <td>0.499686</td>\n",
              "      <td>18.431011</td>\n",
              "      <td>1.296793</td>\n",
              "      <td>0.491678</td>\n",
              "      <td>1.309700</td>\n",
              "      <td>2.366786</td>\n",
              "      <td>1.724670</td>\n",
              "      <td>38768.921774</td>\n",
              "      <td>0.499897</td>\n",
              "      <td>4.244406</td>\n",
              "      <td>1.601995</td>\n",
              "      <td>18.480873</td>\n",
              "      <td>12.881575</td>\n",
              "      <td>18.527012</td>\n",
              "      <td>13.022829</td>\n",
              "      <td>21.764409</td>\n",
              "      <td>10.079264</td>\n",
              "      <td>7.095921</td>\n",
              "      <td>3.873018</td>\n",
              "      <td>2.800784</td>\n",
              "      <td>5.268027</td>\n",
              "      <td>16.844109</td>\n",
              "      <td>0.414845</td>\n",
              "    </tr>\n",
              "    <tr>\n",
              "      <th>min</th>\n",
              "      <td>83732.000000</td>\n",
              "      <td>1.000000</td>\n",
              "      <td>1.000000</td>\n",
              "      <td>1.000000</td>\n",
              "      <td>1.000000</td>\n",
              "      <td>1.000000</td>\n",
              "      <td>18.000000</td>\n",
              "      <td>1.000000</td>\n",
              "      <td>1.000000</td>\n",
              "      <td>1.000000</td>\n",
              "      <td>1.000000</td>\n",
              "      <td>1.000000</td>\n",
              "      <td>5330.960000</td>\n",
              "      <td>1.000000</td>\n",
              "      <td>119.000000</td>\n",
              "      <td>0.000000</td>\n",
              "      <td>82.000000</td>\n",
              "      <td>0.000000</td>\n",
              "      <td>84.000000</td>\n",
              "      <td>0.000000</td>\n",
              "      <td>32.400000</td>\n",
              "      <td>129.700000</td>\n",
              "      <td>14.500000</td>\n",
              "      <td>26.000000</td>\n",
              "      <td>28.200000</td>\n",
              "      <td>17.100000</td>\n",
              "      <td>58.700000</td>\n",
              "      <td>1.000000</td>\n",
              "    </tr>\n",
              "    <tr>\n",
              "      <th>25%</th>\n",
              "      <td>86164.000000</td>\n",
              "      <td>1.000000</td>\n",
              "      <td>1.000000</td>\n",
              "      <td>1.000000</td>\n",
              "      <td>1.000000</td>\n",
              "      <td>1.000000</td>\n",
              "      <td>32.000000</td>\n",
              "      <td>2.000000</td>\n",
              "      <td>1.000000</td>\n",
              "      <td>3.000000</td>\n",
              "      <td>1.000000</td>\n",
              "      <td>2.000000</td>\n",
              "      <td>17164.085000</td>\n",
              "      <td>1.000000</td>\n",
              "      <td>123.000000</td>\n",
              "      <td>1.060000</td>\n",
              "      <td>112.000000</td>\n",
              "      <td>62.000000</td>\n",
              "      <td>112.000000</td>\n",
              "      <td>62.000000</td>\n",
              "      <td>65.900000</td>\n",
              "      <td>158.700000</td>\n",
              "      <td>24.300000</td>\n",
              "      <td>36.000000</td>\n",
              "      <td>35.200000</td>\n",
              "      <td>29.500000</td>\n",
              "      <td>87.600000</td>\n",
              "      <td>2.000000</td>\n",
              "    </tr>\n",
              "    <tr>\n",
              "      <th>50%</th>\n",
              "      <td>88668.000000</td>\n",
              "      <td>1.000000</td>\n",
              "      <td>2.000000</td>\n",
              "      <td>2.000000</td>\n",
              "      <td>2.000000</td>\n",
              "      <td>2.000000</td>\n",
              "      <td>48.000000</td>\n",
              "      <td>3.000000</td>\n",
              "      <td>1.000000</td>\n",
              "      <td>4.000000</td>\n",
              "      <td>1.000000</td>\n",
              "      <td>3.000000</td>\n",
              "      <td>24654.860000</td>\n",
              "      <td>1.000000</td>\n",
              "      <td>126.000000</td>\n",
              "      <td>1.980000</td>\n",
              "      <td>122.000000</td>\n",
              "      <td>70.000000</td>\n",
              "      <td>122.000000</td>\n",
              "      <td>70.000000</td>\n",
              "      <td>78.200000</td>\n",
              "      <td>166.000000</td>\n",
              "      <td>28.300000</td>\n",
              "      <td>38.600000</td>\n",
              "      <td>37.100000</td>\n",
              "      <td>32.700000</td>\n",
              "      <td>98.300000</td>\n",
              "      <td>2.000000</td>\n",
              "    </tr>\n",
              "    <tr>\n",
              "      <th>75%</th>\n",
              "      <td>91178.500000</td>\n",
              "      <td>2.000000</td>\n",
              "      <td>2.000000</td>\n",
              "      <td>3.000000</td>\n",
              "      <td>2.000000</td>\n",
              "      <td>2.000000</td>\n",
              "      <td>63.000000</td>\n",
              "      <td>4.000000</td>\n",
              "      <td>1.000000</td>\n",
              "      <td>4.750000</td>\n",
              "      <td>5.000000</td>\n",
              "      <td>5.000000</td>\n",
              "      <td>42862.305000</td>\n",
              "      <td>2.000000</td>\n",
              "      <td>130.000000</td>\n",
              "      <td>3.740000</td>\n",
              "      <td>134.000000</td>\n",
              "      <td>78.000000</td>\n",
              "      <td>134.000000</td>\n",
              "      <td>78.000000</td>\n",
              "      <td>92.700000</td>\n",
              "      <td>173.500000</td>\n",
              "      <td>33.000000</td>\n",
              "      <td>41.200000</td>\n",
              "      <td>39.000000</td>\n",
              "      <td>36.200000</td>\n",
              "      <td>109.300000</td>\n",
              "      <td>2.000000</td>\n",
              "    </tr>\n",
              "    <tr>\n",
              "      <th>max</th>\n",
              "      <td>93702.000000</td>\n",
              "      <td>9.000000</td>\n",
              "      <td>9.000000</td>\n",
              "      <td>999.000000</td>\n",
              "      <td>9.000000</td>\n",
              "      <td>2.000000</td>\n",
              "      <td>80.000000</td>\n",
              "      <td>5.000000</td>\n",
              "      <td>9.000000</td>\n",
              "      <td>9.000000</td>\n",
              "      <td>77.000000</td>\n",
              "      <td>7.000000</td>\n",
              "      <td>233755.840000</td>\n",
              "      <td>2.000000</td>\n",
              "      <td>133.000000</td>\n",
              "      <td>5.000000</td>\n",
              "      <td>236.000000</td>\n",
              "      <td>120.000000</td>\n",
              "      <td>238.000000</td>\n",
              "      <td>144.000000</td>\n",
              "      <td>198.900000</td>\n",
              "      <td>202.700000</td>\n",
              "      <td>67.300000</td>\n",
              "      <td>51.500000</td>\n",
              "      <td>47.400000</td>\n",
              "      <td>58.400000</td>\n",
              "      <td>171.600000</td>\n",
              "      <td>9.000000</td>\n",
              "    </tr>\n",
              "  </tbody>\n",
              "</table>\n",
              "</div>"
            ],
            "text/plain": [
              "               SEQN       ALQ101  ...     BMXWAIST       HIQ210\n",
              "count   5735.000000  5208.000000  ...  5368.000000  4732.000000\n",
              "mean   88678.583435     1.336406  ...    99.567213     1.915469\n",
              "std     2882.139237     0.505514  ...    16.844109     0.414845\n",
              "min    83732.000000     1.000000  ...    58.700000     1.000000\n",
              "25%    86164.000000     1.000000  ...    87.600000     2.000000\n",
              "50%    88668.000000     1.000000  ...    98.300000     2.000000\n",
              "75%    91178.500000     2.000000  ...   109.300000     2.000000\n",
              "max    93702.000000     9.000000  ...   171.600000     9.000000\n",
              "\n",
              "[8 rows x 28 columns]"
            ]
          },
          "metadata": {
            "tags": []
          },
          "execution_count": 32
        }
      ]
    },
    {
      "cell_type": "markdown",
      "metadata": {
        "id": "poWZ9Cr_BCVU"
      },
      "source": [
        "Next we look at frequencies for a systolic blood pressure measurement (BPXSY1). \"BPX\" here is the NHANES prefix for blood pressure measurements, \"SY\" stands for \"systolic\" blood pressure (blood pressure at the peak of a heartbeat cycle), and \"1\" indicates that this is the first of three systolic blood presure measurements taken on a subject.\r\n",
        "\r\n",
        "A person is generally considered to have pre-hypertension when their systolic blood pressure is between 120 and 139, or their diastolic blood pressure is between 80 and 89. Considering only the systolic condition, we can calculate the proprotion of the NHANES sample who would be considered to have pre-hypertension.\r\n",
        "اگر فشار خون بین 120 و 139 باشه برای نوع سیستولیک فرد با فشار خون بالاست برای حالت دیاستولیک اگر بین 80 تا89 باشه یعنی فشار خون فرد بالاست."
      ]
    },
    {
      "cell_type": "code",
      "metadata": {
        "colab": {
          "base_uri": "https://localhost:8080/"
        },
        "id": "4JzrMrxE3x2B",
        "outputId": "5225096c-8187-4a20-c0c4-abacb02008d2"
      },
      "source": [
        "np.mean((da.BPXSY1 >=120) & (da.BPXSY2 <=139))"
      ],
      "execution_count": 13,
      "outputs": [
        {
          "output_type": "execute_result",
          "data": {
            "text/plain": [
              "0.3741935483870968"
            ]
          },
          "metadata": {
            "tags": []
          },
          "execution_count": 13
        }
      ]
    },
    {
      "cell_type": "markdown",
      "metadata": {
        "id": "u6MJjopuD31K"
      },
      "source": [
        "Next we calculate the propotion of NHANES subjects who are pre-hypertensive based on diastolic blood pressure."
      ]
    },
    {
      "cell_type": "code",
      "metadata": {
        "colab": {
          "base_uri": "https://localhost:8080/"
        },
        "id": "HiWHXQdz3x6T",
        "outputId": "b3984914-1e0e-4aeb-e60e-b896cd8c3821"
      },
      "source": [
        "np.mean((da.BPXDI1 >=80) & (da.BPXDI2 <=89))"
      ],
      "execution_count": 17,
      "outputs": [
        {
          "output_type": "execute_result",
          "data": {
            "text/plain": [
              "0.14803836094158676"
            ]
          },
          "metadata": {
            "tags": []
          },
          "execution_count": 17
        }
      ]
    },
    {
      "cell_type": "code",
      "metadata": {
        "colab": {
          "base_uri": "https://localhost:8080/"
        },
        "id": "3iWsmPPUDhpq",
        "outputId": "2bdedec5-d3df-44dd-afec-a05ac24d133f"
      },
      "source": [
        "a=(da.BPXSY1 >=120) & (da.BPXSY2 <=139)\r\n",
        "b=(da.BPXDI1 >=80) & (da.BPXDI2 <=89)\r\n",
        "print(np.mean(a|b)) # | means or"
      ],
      "execution_count": 20,
      "outputs": [
        {
          "output_type": "stream",
          "text": [
            "0.43975588491717527\n"
          ],
          "name": "stdout"
        }
      ]
    },
    {
      "cell_type": "markdown",
      "metadata": {
        "id": "qodONhRiOKNX"
      },
      "source": [
        "Blood pressure measurements are affected by a phenomenon called \"white coat anxiety\", in which a subject's bood pressure may be slightly elevated if they are nervous when interacting with health care providers. Typically this effect subsides if the blood pressure is measured several times in sequence. In NHANES, both systolic and diastolic blood pressure are meausred three times for each subject (e.g. BPXSY2 is the second measurement of systolic blood pressure). We can calculate the extent to which white coat anxiety is present in the NHANES data by looking a the mean difference between the first two systolic or diastolic blood pressure measurements."
      ]
    },
    {
      "cell_type": "code",
      "metadata": {
        "colab": {
          "base_uri": "https://localhost:8080/"
        },
        "id": "qzwrEiYkDhza",
        "outputId": "c3952044-2b39-46e0-a182-ecb7b7c72642"
      },
      "source": [
        "print(np.mean(da.BPXSY1 - da.BPXSY2))\r\n",
        "print(np.mean(da.BPXDI1 - da.BPXDI2))\r\n"
      ],
      "execution_count": 22,
      "outputs": [
        {
          "output_type": "stream",
          "text": [
            "0.6749860309182343\n",
            "0.3490407897187558\n"
          ],
          "name": "stdout"
        }
      ]
    },
    {
      "cell_type": "markdown",
      "metadata": {
        "id": "pDkDLIfVOwy9"
      },
      "source": [
        "Quantitative variables can be effectively summarized graphically. Below we see the distribution of body weight (in Kg), shown as a histogram. It is evidently right-skewed."
      ]
    },
    {
      "cell_type": "code",
      "metadata": {
        "colab": {
          "base_uri": "https://localhost:8080/",
          "height": 386
        },
        "id": "V8fmMY4iDh51",
        "outputId": "bb31d815-254c-400a-fb43-8af86d2656a5"
      },
      "source": [
        "sns.displot(da.BMXWT.dropna())"
      ],
      "execution_count": 25,
      "outputs": [
        {
          "output_type": "execute_result",
          "data": {
            "text/plain": [
              "<seaborn.axisgrid.FacetGrid at 0x7f39eb7c3c18>"
            ]
          },
          "metadata": {
            "tags": []
          },
          "execution_count": 25
        },
        {
          "output_type": "display_data",
          "data": {
            "image/png": "[encoded data removed]",
            "text/plain": [
              "<Figure size 360x360 with 1 Axes>"
            ]
          },
          "metadata": {
            "tags": [],
            "needs_background": "light"
          }
        }
      ]
    },
    {
      "cell_type": "code",
      "metadata": {
        "colab": {
          "base_uri": "https://localhost:8080/",
          "height": 386
        },
        "id": "--Aq3TLwPhHt",
        "outputId": "0188aba5-a6e4-4582-e190-3f95fb9e4adc"
      },
      "source": [
        "sns.displot(da['BMXWT'] , kde=False )"
      ],
      "execution_count": 29,
      "outputs": [
        {
          "output_type": "execute_result",
          "data": {
            "text/plain": [
              "<seaborn.axisgrid.FacetGrid at 0x7f39e26e7d30>"
            ]
          },
          "metadata": {
            "tags": []
          },
          "execution_count": 29
        },
        {
          "output_type": "display_data",
          "data": {
            "image/png": "[encoded data removed]",
            "text/plain": [
              "<Figure size 360x360 with 1 Axes>"
            ]
          },
          "metadata": {
            "tags": [],
            "needs_background": "light"
          }
        }
      ]
    },
    {
      "cell_type": "code",
      "metadata": {
        "colab": {
          "base_uri": "https://localhost:8080/",
          "height": 512
        },
        "id": "pE6z8csLQB1b",
        "outputId": "a64de490-96ad-4758-f490-a535347bd653"
      },
      "source": [
        "sns.distplot(da['BMXWT'] , kde=True ).set_title('histogram') \r\n",
        "plot.show()"
      ],
      "execution_count": 45,
      "outputs": [
        {
          "output_type": "stream",
          "text": [
            "/usr/local/lib/python3.6/dist-packages/seaborn/distributions.py:2557: FutureWarning: `distplot` is a deprecated function and will be removed in a future version. Please adapt your code to use either `displot` (a figure-level function with similar flexibility) or `histplot` (an axes-level function for histograms).\n",
            "  warnings.warn(msg, FutureWarning)\n"
          ],
          "name": "stderr"
        },
        {
          "output_type": "error",
          "ename": "NameError",
          "evalue": "ignored",
          "traceback": [
            "\u001b[0;31m---------------------------------------------------------------------------\u001b[0m",
            "\u001b[0;31mNameError\u001b[0m                                 Traceback (most recent call last)",
            "\u001b[0;32m<ipython-input-45-a00525733533>\u001b[0m in \u001b[0;36m<module>\u001b[0;34m()\u001b[0m\n\u001b[1;32m      1\u001b[0m \u001b[0msns\u001b[0m\u001b[0;34m.\u001b[0m\u001b[0mdistplot\u001b[0m\u001b[0;34m(\u001b[0m\u001b[0mda\u001b[0m\u001b[0;34m[\u001b[0m\u001b[0;34m'BMXWT'\u001b[0m\u001b[0;34m]\u001b[0m \u001b[0;34m,\u001b[0m \u001b[0mkde\u001b[0m\u001b[0;34m=\u001b[0m\u001b[0;32mTrue\u001b[0m \u001b[0;34m)\u001b[0m\u001b[0;34m.\u001b[0m\u001b[0mset_title\u001b[0m\u001b[0;34m(\u001b[0m\u001b[0;34m'histogram'\u001b[0m\u001b[0;34m)\u001b[0m\u001b[0;34m\u001b[0m\u001b[0;34m\u001b[0m\u001b[0m\n\u001b[0;32m----> 2\u001b[0;31m \u001b[0mplot\u001b[0m\u001b[0;34m.\u001b[0m\u001b[0mshow\u001b[0m\u001b[0;34m(\u001b[0m\u001b[0;34m)\u001b[0m\u001b[0;34m\u001b[0m\u001b[0;34m\u001b[0m\u001b[0m\n\u001b[0m",
            "\u001b[0;31mNameError\u001b[0m: name 'plot' is not defined"
          ]
        },
        {
          "output_type": "display_data",
          "data": {
            "image/png": "[encoded data removed]",
            "text/plain": [
              "<Figure size 432x288 with 1 Axes>"
            ]
          },
          "metadata": {
            "tags": [],
            "needs_background": "light"
          }
        }
      ]
    },
    {
      "cell_type": "markdown",
      "metadata": {
        "id": "oTX2lFjuRh8m"
      },
      "source": [
        "Next we look at the histogram of systolic blood pressure measurements. You can see that there is a tendency for the measurements to be rounded to the nearest 5 or 10 units"
      ]
    },
    {
      "cell_type": "code",
      "metadata": {
        "colab": {
          "base_uri": "https://localhost:8080/",
          "height": 386
        },
        "id": "F3D7MW2m3x8M",
        "outputId": "99e0f650-f872-4517-9b1f-43245309d16f"
      },
      "source": [
        "sns.distplot(da.BPXSY1.dropna())"
      ],
      "execution_count": 43,
      "outputs": [
        {
          "output_type": "execute_result",
          "data": {
            "text/plain": [
              "<seaborn.axisgrid.FacetGrid at 0x7f39e2041b70>"
            ]
          },
          "metadata": {
            "tags": []
          },
          "execution_count": 43
        },
        {
          "output_type": "display_data",
          "data": {
            "image/png": "[encoded data removed]",
            "text/plain": [
              "<Figure size 360x360 with 1 Axes>"
            ]
          },
          "metadata": {
            "tags": [],
            "needs_background": "light"
          }
        }
      ]
    },
    {
      "cell_type": "code",
      "metadata": {
        "colab": {
          "base_uri": "https://localhost:8080/",
          "height": 350
        },
        "id": "WES_kgY7SXEg",
        "outputId": "0e5ba713-86e1-4242-8066-800e579a4175"
      },
      "source": [
        "sns.distplot(da.BPXSY1.dropna())"
      ],
      "execution_count": 42,
      "outputs": [
        {
          "output_type": "stream",
          "text": [
            "/usr/local/lib/python3.6/dist-packages/seaborn/distributions.py:2557: FutureWarning: `distplot` is a deprecated function and will be removed in a future version. Please adapt your code to use either `displot` (a figure-level function with similar flexibility) or `histplot` (an axes-level function for histograms).\n",
            "  warnings.warn(msg, FutureWarning)\n"
          ],
          "name": "stderr"
        },
        {
          "output_type": "execute_result",
          "data": {
            "text/plain": [
              "<matplotlib.axes._subplots.AxesSubplot at 0x7f39e2089d68>"
            ]
          },
          "metadata": {
            "tags": []
          },
          "execution_count": 42
        },
        {
          "output_type": "display_data",
          "data": {
            "image/png": "[encoded data removed]",
            "text/plain": [
              "<Figure size 432x288 with 1 Axes>"
            ]
          },
          "metadata": {
            "tags": [],
            "needs_background": "light"
          }
        }
      ]
    },
    {
      "cell_type": "code",
      "metadata": {
        "colab": {
          "base_uri": "https://localhost:8080/",
          "height": 350
        },
        "id": "laIPYu0FRusD",
        "outputId": "ed8d90de-592a-423d-8bd6-a52c5c77d43b"
      },
      "source": [
        "sns.distplot(da['BPXSY1'] , kde=True)"
      ],
      "execution_count": 44,
      "outputs": [
        {
          "output_type": "stream",
          "text": [
            "/usr/local/lib/python3.6/dist-packages/seaborn/distributions.py:2557: FutureWarning: `distplot` is a deprecated function and will be removed in a future version. Please adapt your code to use either `displot` (a figure-level function with similar flexibility) or `histplot` (an axes-level function for histograms).\n",
            "  warnings.warn(msg, FutureWarning)\n"
          ],
          "name": "stderr"
        },
        {
          "output_type": "execute_result",
          "data": {
            "text/plain": [
              "<matplotlib.axes._subplots.AxesSubplot at 0x7f39e1cf6518>"
            ]
          },
          "metadata": {
            "tags": []
          },
          "execution_count": 44
        },
        {
          "output_type": "display_data",
          "data": {
            "image/png": "[encoded data removed]",
            "text/plain": [
              "<Figure size 432x288 with 1 Axes>"
            ]
          },
          "metadata": {
            "tags": [],
            "needs_background": "light"
          }
        }
      ]
    },
    {
      "cell_type": "markdown",
      "metadata": {
        "id": "OLaR8lxpTPsd"
      },
      "source": [
        "To compare several distributions, we can use side-by-side boxplots. Below we compare the distributions of the first and second systolic blood pressure measurements (BPXSY1, BPXSY2), and the first and second diastolic blood pressure measurements (BPXDI1, BPXDI2). As expected, diastolic measurements are substantially lower than systolic measurements. Above we saw that the second blood pressure reading on a subject tended on average to be slightly lower than the first measurement. This difference was less than 1 mm/Hg, so is not visible in the \"marginal\" distributions shown below."
      ]
    },
    {
      "cell_type": "code",
      "metadata": {
        "colab": {
          "base_uri": "https://localhost:8080/",
          "height": 265
        },
        "id": "Nbc_Jli9Ruyd",
        "outputId": "fab96e7c-cb16-47ac-9048-24149725dd49"
      },
      "source": [
        "bp=sns.boxplot(data=da.loc[: , [\"BPXSY1\", \"BPXSY2\", \"BPXDI1\", \"BPXDI2\"]])\r\n"
      ],
      "execution_count": 48,
      "outputs": [
        {
          "output_type": "display_data",
          "data": {
            "image/png": "[encoded data removed]",
            "text/plain": [
              "<Figure size 432x288 with 1 Axes>"
            ]
          },
          "metadata": {
            "tags": [],
            "needs_background": "light"
          }
        }
      ]
    },
    {
      "cell_type": "code",
      "metadata": {
        "colab": {
          "base_uri": "https://localhost:8080/",
          "height": 265
        },
        "id": "aJcs8fKTRu0i",
        "outputId": "01294e17-67e7-4f7f-d43f-0872c016dbeb"
      },
      "source": [
        "bp = sns.boxplot(data=da.loc[:, [\"BPXSY1\", \"BPXSY2\", \"BPXDI1\", \"BPXDI2\"]])\r\n",
        "_ = bp.set_ylabel(\"Blood pressure in mm/Hg\")"
      ],
      "execution_count": 49,
      "outputs": [
        {
          "output_type": "display_data",
          "data": {
            "image/png": "[encoded data removed]",
            "text/plain": [
              "<Figure size 432x288 with 1 Axes>"
            ]
          },
          "metadata": {
            "tags": [],
            "needs_background": "light"
          }
        }
      ]
    },
    {
      "cell_type": "markdown",
      "metadata": {
        "id": "Vg5f010OefLh"
      },
      "source": [
        "مقایسه فشار خون و سن افراد"
      ]
    },
    {
      "cell_type": "code",
      "metadata": {
        "id": "cJq5_aubRu2l"
      },
      "source": [
        "da[\"agegrp\"] = pd.cut(da.RIDAGEYR, [18, 30, 40, 50, 60, 70, 80]) # Create age strata based on these cut points\r\n",
        "plt.figure(figsize=(12, 5))  # Make the figure wider than default (12cm wide by 5cm tall)\r\n",
        "sns.boxplot(x=\"agegrp\", y=\"BPXSY1\", data=da)  # Make boxplot of BPXSY1 stratified by age group"
      ],
      "execution_count": null,
      "outputs": []
    },
    {
      "cell_type": "code",
      "metadata": {
        "colab": {
          "base_uri": "https://localhost:8080/",
          "height": 351
        },
        "id": "alOba3ASesDu",
        "outputId": "59ead0e9-b79a-4d9e-c3c5-255b35708f07"
      },
      "source": [
        "da['agegrp'] = pd.cut(da.RIDAGEYR,  [18,30,40,50,60,70,80])\r\n",
        "# da ['esme mehvar x] = az pd. tabe cut (toye da. az sotun RIDAGEYR ke sen hast , [in rade haye seni])\r\n",
        "plt.figure(figsize=(12, 5))\r\n",
        "\r\n",
        "sns.boxplot( x= 'agegrp' , y= 'BPXSY1', data=da)"
      ],
      "execution_count": 53,
      "outputs": [
        {
          "output_type": "execute_result",
          "data": {
            "text/plain": [
              "<matplotlib.axes._subplots.AxesSubplot at 0x7f39e1ff50b8>"
            ]
          },
          "metadata": {
            "tags": []
          },
          "execution_count": 53
        },
        {
          "output_type": "display_data",
          "data": {
            "image/png": "[encoded data removed]",
            "text/plain": [
              "<Figure size 864x360 with 1 Axes>"
            ]
          },
          "metadata": {
            "tags": [],
            "needs_background": "light"
          }
        }
      ]
    },
    {
      "cell_type": "code",
      "metadata": {
        "colab": {
          "base_uri": "https://localhost:8080/",
          "height": 296
        },
        "id": "9zlF44tkesGo",
        "outputId": "29d3262c-7023-47ea-86c2-a1adcc149ba8"
      },
      "source": [
        "da['agegrp'] = pd.cut(da.RIDAGEYR,  [18,30,40,50,60,70,80])\r\n",
        "# da ['esme mehvar x] = az pd. tabe cut (toye da. az sotun RIDAGEYR ke sen hast , [in rade haye seni])\r\n",
        "#plt.figure(figsize=(12, 10))\r\n",
        "sns.boxplot( x= 'agegrp' , y= 'BPXSY1', data=da)"
      ],
      "execution_count": 59,
      "outputs": [
        {
          "output_type": "execute_result",
          "data": {
            "text/plain": [
              "<matplotlib.axes._subplots.AxesSubplot at 0x7f39e1164908>"
            ]
          },
          "metadata": {
            "tags": []
          },
          "execution_count": 59
        },
        {
          "output_type": "display_data",
          "data": {
            "image/png": "[encoded data removed]",
            "text/plain": [
              "<Figure size 432x288 with 1 Axes>"
            ]
          },
          "metadata": {
            "tags": [],
            "needs_background": "light"
          }
        }
      ]
    },
    {
      "cell_type": "markdown",
      "metadata": {
        "id": "-5sx-fAZk76u"
      },
      "source": [
        "Taking this a step further, it is also the case that blood pressure tends to differ between women and men. While we could simply make two side-by-side boxplots to illustrate this contrast, it would be a bit odd to ignore age after already having established that it is strongly associated with blood pressure. Therefore, we will doubly stratify the data by gender and age.\r\n",
        "\r\n",
        "We see from the figure below that within each gender, older people tend to have higher blood pressure than younger people. However within an age band, the relationship between gender and systolic blood pressure is somewhat complex -- in younger people, men have substantially higher blood pressures than women of the same age. However for people older than 50, this relationship becomes much weaker, and among people older than 70 it appears to reverse. It is also notable that the variation of these distributions, reflected in the height of each box in the boxplot, increases with age.\r\n",
        "تفکیک همون جدول بر اساس مرد و زن...فشار خون و سن"
      ]
    },
    {
      "cell_type": "code",
      "metadata": {
        "colab": {
          "base_uri": "https://localhost:8080/",
          "height": 351
        },
        "id": "05cksrSFesJ_",
        "outputId": "a2ec9314-ee47-490f-9254-66b2a99da29a"
      },
      "source": [
        "da[\"agegrp\"] = pd.cut(da.RIDAGEYR, [18, 30, 40, 50, 60, 70, 80])\r\n",
        "plt.figure(figsize=(12, 5))\r\n",
        "sns.boxplot(x=\"agegrp\", y=\"BPXSY1\", hue=\"RIAGENDRx\", data=da)"
      ],
      "execution_count": 63,
      "outputs": [
        {
          "output_type": "execute_result",
          "data": {
            "text/plain": [
              "<matplotlib.axes._subplots.AxesSubplot at 0x7f39e104d390>"
            ]
          },
          "metadata": {
            "tags": []
          },
          "execution_count": 63
        },
        {
          "output_type": "display_data",
          "data": {
            "image/png": "[encoded data removed]",
            "text/plain": [
              "<Figure size 864x360 with 1 Axes>"
            ]
          },
          "metadata": {
            "tags": [],
            "needs_background": "light"
          }
        }
      ]
    },
    {
      "cell_type": "markdown",
      "metadata": {
        "id": "1IiLP24fnFzz"
      },
      "source": [
        "When stratifying on two factors (here age and gender), we can group the boxes first by age, and within age bands by gender, as above, or we can do the opposite -- group first by gender, and then within gender group by age bands. Each approach highlights a different aspect of the data.\r\n",
        "باکس بندی دو گروه مجزا گروه 1 جنسیت و گروه 2 سن"
      ]
    },
    {
      "cell_type": "code",
      "metadata": {
        "colab": {
          "base_uri": "https://localhost:8080/",
          "height": 351
        },
        "id": "bDNR6sr2esL5",
        "outputId": "5b708b04-5c0e-444e-8b56-97f9659ea153"
      },
      "source": [
        "da[\"agegrp\"] = pd.cut(da.RIDAGEYR, [18, 30, 40, 50, 60, 70, 80])\r\n",
        "plt.figure(figsize=(12, 5))\r\n",
        "sns.boxplot(x=\"RIAGENDRx\", y=\"BPXSY1\", hue=\"agegrp\", data=da)"
      ],
      "execution_count": 64,
      "outputs": [
        {
          "output_type": "execute_result",
          "data": {
            "text/plain": [
              "<matplotlib.axes._subplots.AxesSubplot at 0x7f39e1610898>"
            ]
          },
          "metadata": {
            "tags": []
          },
          "execution_count": 64
        },
        {
          "output_type": "display_data",
          "data": {
            "image/png": "[encoded data removed]",
            "text/plain": [
              "<Figure size 864x360 with 1 Axes>"
            ]
          },
          "metadata": {
            "tags": [],
            "needs_background": "light"
          }
        }
      ]
    },
    {
      "cell_type": "markdown",
      "metadata": {
        "id": "8aGvDGsVoKYE"
      },
      "source": [
        "رابطه سن و تحصیلات "
      ]
    },
    {
      "cell_type": "code",
      "metadata": {
        "colab": {
          "base_uri": "https://localhost:8080/"
        },
        "id": "OtIwEohHoJjL",
        "outputId": "9036fe7d-f2a7-4159-cab3-d8a57fe9278a"
      },
      "source": [
        "da.groupby(\"agegrp\")[\"DMDEDUC2x\"].value_counts()"
      ],
      "execution_count": 72,
      "outputs": [
        {
          "output_type": "execute_result",
          "data": {
            "text/plain": [
              "agegrp    DMDEDUC2x   \n",
              "(18, 30]  4=colage/aa     364\n",
              "          5=collage       278\n",
              "          3=Highschool    237\n",
              "          10=missing      128\n",
              "          2=9-11           99\n",
              "          1=<9             47\n",
              "(30, 40]  4=colage/aa     282\n",
              "          5=collage       264\n",
              "          3=Highschool    182\n",
              "          2=9-11          111\n",
              "          1=<9             93\n",
              "(40, 50]  4=colage/aa     262\n",
              "          5=collage       260\n",
              "          3=Highschool    171\n",
              "          2=9-11          112\n",
              "          1=<9             98\n",
              "(50, 60]  4=colage/aa     258\n",
              "          3=Highschool    220\n",
              "          5=collage       220\n",
              "          2=9-11          122\n",
              "          1=<9            104\n",
              "(60, 70]  4=colage/aa     238\n",
              "          3=Highschool    192\n",
              "          5=collage       188\n",
              "          1=<9            149\n",
              "          2=9-11          111\n",
              "(70, 80]  4=colage/aa     217\n",
              "          3=Highschool    184\n",
              "          1=<9            164\n",
              "          5=collage       156\n",
              "          2=9-11           88\n",
              "          9=dont know       3\n",
              "Name: DMDEDUC2x, dtype: int64"
            ]
          },
          "metadata": {
            "tags": []
          },
          "execution_count": 72
        }
      ]
    },
    {
      "cell_type": "markdown",
      "metadata": {
        "id": "qyB2GogbqyD8"
      },
      "source": [
        "We can also stratify jointly by age and gender to explore how educational attainment varies by both of these factors simultaneously. In doing this, it is easier to interpret the results if we pivot the education levels into the columns, and normalize the counts so that they sum to 1. After doing this, the results can be interpreted as proportions or probabilities. One notable observation from this table is that for people up to age around 60, women are more likely to have graduated from college than men, but for people over aged 60, this relationship reverses."
      ]
    },
    {
      "cell_type": "markdown",
      "metadata": {
        "id": "9AEoH5bJqi5R"
      },
      "source": [
        "دسته بندی تحصیلات بر اساس سن به تفکیک زن و مرد"
      ]
    },
    {
      "cell_type": "code",
      "metadata": {
        "colab": {
          "base_uri": "https://localhost:8080/"
        },
        "id": "a3w2UrnGoJxC",
        "outputId": "89ff927e-2f19-427b-8c6e-f68a950d20a0"
      },
      "source": [
        "dx = da.loc[~da.DMDEDUC2x.isin([\"Don't know\", \"Missing\"]), :]  # Eliminate rare/missing values\r\n",
        "dx = dx.groupby([\"agegrp\", \"RIAGENDRx\"])[\"DMDEDUC2x\"]\r\n",
        "dx = dx.value_counts()\r\n",
        "dx = dx.unstack() # Restructure the results from 'long' to 'wide'\r\n",
        "dx = dx.apply(lambda x: x/x.sum(), axis=1) # Normalize within each stratum to get proportions\r\n",
        "print(dx.to_string(float_format=\"%.3f\"))  # Limit display to 3 decimal places"
      ],
      "execution_count": 76,
      "outputs": [
        {
          "output_type": "stream",
          "text": [
            "DMDEDUC2x           10=missing  1=<9  2=9-11  3=Highschool  4=colage/aa  5=collage  9=dont know\n",
            "agegrp   RIAGENDRx                                                                             \n",
            "(18, 30] Female          0.092 0.044   0.072         0.195        0.340      0.256          NaN\n",
            "         Male            0.132 0.037   0.101         0.217        0.289      0.224          NaN\n",
            "(30, 40] Female            NaN 0.097   0.089         0.165        0.335      0.314          NaN\n",
            "         Male              NaN 0.103   0.151         0.227        0.269      0.251          NaN\n",
            "(40, 50] Female            NaN 0.106   0.110         0.173        0.313      0.299          NaN\n",
            "         Male              NaN 0.112   0.142         0.209        0.262      0.274          NaN\n",
            "(50, 60] Female            NaN 0.102   0.117         0.234        0.302      0.245          NaN\n",
            "         Male              NaN 0.123   0.148         0.242        0.256      0.231          NaN\n",
            "(60, 70] Female            NaN 0.188   0.118         0.206        0.293      0.195          NaN\n",
            "         Male              NaN 0.151   0.135         0.231        0.249      0.233          NaN\n",
            "(70, 80] Female            NaN 0.224   0.105         0.239        0.280      0.149        0.002\n",
            "         Male              NaN 0.179   0.112         0.214        0.254      0.236        0.005\n"
          ],
          "name": "stdout"
        }
      ]
    },
    {
      "cell_type": "code",
      "metadata": {
        "id": "N_55McHvoJ0R"
      },
      "source": [
        ""
      ],
      "execution_count": null,
      "outputs": []
    }
  ]
}